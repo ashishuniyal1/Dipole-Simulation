{
 "cells": [
  {
   "cell_type": "code",
   "execution_count": 1,
   "id": "da8c1aa0",
   "metadata": {},
   "outputs": [],
   "source": [
    "import numpy as np\n",
    "import scipy.integrate\n",
    "import matplotlib.pyplot as plt\n",
    "import numdifftools as nd"
   ]
  },
  {
   "cell_type": "code",
   "execution_count": 2,
   "id": "bbdcbb28",
   "metadata": {},
   "outputs": [],
   "source": [
    "d = 1\n",
    "q_0 = 1\n",
    "w = np.pi\n",
    "e = 1\n",
    "c = 1\n",
    "epsilon_0 = 1\n",
    "mu_0 = 1"
   ]
  },
  {
   "cell_type": "code",
   "execution_count": 3,
   "id": "eb849989",
   "metadata": {},
   "outputs": [],
   "source": [
    "def q(t,d,w,e,q_0):\n",
    "    return q_0*np.cos(w*t)\n",
    "def i(t,d,w,e,q_0):\n",
    "    return -2*q_0*w*np.sin(w*t)*np.array([0,0,1], float)"
   ]
  },
  {
   "cell_type": "code",
   "execution_count": 4,
   "id": "5318d7f8",
   "metadata": {},
   "outputs": [],
   "source": [
    "def A(r,t):\n",
    "    k = scipy.integrate.quad_vec(\n",
    "        lambda r_p: i(t-np.linalg.norm(r-r_p)/c,d,w,e,q_0)/np.linalg.norm(r-r_p),\n",
    "        -d/2,\n",
    "        d/2\n",
    "    )\n",
    "    return mu_0/(4*np.pi)*k[0]\n",
    "def phi(r,t):\n",
    "    r_p = d/2*np.array([[0,0,1],[0,0,-1]],float)\n",
    "    return sum([((-1)**i)*(1/(4*np.pi*epsilon_0))*\n",
    "                q(t-np.linalg.norm(r-r_p[i])/c,d,w,e,q_0)/np.linalg.norm(r-r_p[i]) for i in range(2)])"
   ]
  },
  {
   "cell_type": "code",
   "execution_count": 5,
   "id": "5e1a3e41",
   "metadata": {},
   "outputs": [
    {
     "data": {
      "text/plain": [
       "array([0.        , 0.        , 1.03437504])"
      ]
     },
     "execution_count": 5,
     "metadata": {},
     "output_type": "execute_result"
    }
   ],
   "source": [
    "A(np.array([0,0,0.1]), 0)"
   ]
  },
  {
   "cell_type": "code",
   "execution_count": 6,
   "id": "a5c51875",
   "metadata": {},
   "outputs": [
    {
     "data": {
      "text/plain": [
       "0.10246162948786103"
      ]
     },
     "execution_count": 6,
     "metadata": {},
     "output_type": "execute_result"
    }
   ],
   "source": [
    "phi(np.array([0,0,0.1]), 0)"
   ]
  },
  {
   "cell_type": "code",
   "execution_count": 7,
   "id": "7828cf14",
   "metadata": {},
   "outputs": [],
   "source": [
    "def E(x, t):\n",
    "    return -nd.Gradient(lambda x: phi(x,t))(x) - nd.Gradient(lambda t: A(x,t))(t)"
   ]
  },
  {
   "cell_type": "code",
   "execution_count": 8,
   "id": "610a2a82",
   "metadata": {},
   "outputs": [],
   "source": [
    "def curl(f,x):\n",
    "    jac = nd.Jacobian(f)(x)\n",
    "    return np.array([jac[2,1]-jac[1,2],jac[0,2]-jac[2,0],jac[1,0]-jac[0,1]])\n",
    "\n",
    "def B(x,t):\n",
    "    return curl(lambda x: A(x,t), x)"
   ]
  },
  {
   "cell_type": "code",
   "execution_count": 9,
   "id": "3746003d",
   "metadata": {},
   "outputs": [
    {
     "data": {
      "text/plain": [
       "array([ 0.0055372 , -0.00693738,  0.        ])"
      ]
     },
     "execution_count": 9,
     "metadata": {},
     "output_type": "execute_result"
    }
   ],
   "source": [
    "B(np.array([3,2,10]),1)"
   ]
  },
  {
   "cell_type": "code",
   "execution_count": 10,
   "id": "93b297d6",
   "metadata": {},
   "outputs": [
    {
     "data": {
      "text/plain": [
       "array([ 0.00320329,  0.00213552, -0.03243752])"
      ]
     },
     "execution_count": 10,
     "metadata": {},
     "output_type": "execute_result"
    }
   ],
   "source": [
    "E(np.array([3,2,0.1]),1)"
   ]
  },
  {
   "cell_type": "code",
   "execution_count": 11,
   "id": "cd942c1d",
   "metadata": {},
   "outputs": [
    {
     "data": {
      "text/html": [
       "<pre style=\"white-space:pre;overflow-x:auto;line-height:normal;font-family:Menlo,'DejaVu Sans Mono',consolas,'Courier New',monospace\">Manim Community <span style=\"color: #008000\">v0.8.0</span>\n",
       "\n",
       "</pre>\n"
      ],
      "text/plain": [
       "<rich.jupyter.JupyterRenderable at 0x19429093f08>"
      ]
     },
     "metadata": {},
     "output_type": "display_data"
    }
   ],
   "source": [
    "from manim import *"
   ]
  },
  {
   "cell_type": "code",
   "execution_count": 12,
   "id": "d29eaddd",
   "metadata": {},
   "outputs": [
    {
     "ename": "SyntaxError",
     "evalue": "invalid syntax (<ipython-input-12-5ef9dc4cb34b>, line 1)",
     "output_type": "error",
     "traceback": [
      "\u001b[1;36m  File \u001b[1;32m\"<ipython-input-12-5ef9dc4cb34b>\"\u001b[1;36m, line \u001b[1;32m1\u001b[0m\n\u001b[1;33m    class\u001b[0m\n\u001b[1;37m         ^\u001b[0m\n\u001b[1;31mSyntaxError\u001b[0m\u001b[1;31m:\u001b[0m invalid syntax\n"
     ]
    }
   ],
   "source": [
    "class"
   ]
  },
  {
   "cell_type": "code",
   "execution_count": null,
   "id": "a59a792d",
   "metadata": {},
   "outputs": [],
   "source": []
  }
 ],
 "metadata": {
  "kernelspec": {
   "display_name": "Python 3",
   "language": "python",
   "name": "python3"
  },
  "language_info": {
   "codemirror_mode": {
    "name": "ipython",
    "version": 3
   },
   "file_extension": ".py",
   "mimetype": "text/x-python",
   "name": "python",
   "nbconvert_exporter": "python",
   "pygments_lexer": "ipython3",
   "version": "3.7.10"
  }
 },
 "nbformat": 4,
 "nbformat_minor": 5
}
